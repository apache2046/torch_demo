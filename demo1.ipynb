{
  "nbformat": 4,
  "nbformat_minor": 0,
  "metadata": {
    "colab": {
      "name": "Untitled0.ipynb",
      "provenance": [],
      "collapsed_sections": [],
      "authorship_tag": "ABX9TyNNqJL0OeOQmmno/hiyfR6f",
      "include_colab_link": true
    },
    "kernelspec": {
      "name": "python3",
      "display_name": "Python 3"
    },
    "accelerator": "GPU"
  },
  "cells": [
    {
      "cell_type": "markdown",
      "metadata": {
        "id": "view-in-github",
        "colab_type": "text"
      },
      "source": [
        "<a href=\"https://colab.research.google.com/github/apache2046/torch_demo/blob/main/demo1.ipynb\" target=\"_parent\"><img src=\"https://colab.research.google.com/assets/colab-badge.svg\" alt=\"Open In Colab\"/></a>"
      ]
    },
    {
      "cell_type": "code",
      "metadata": {
        "colab": {
          "base_uri": "https://localhost:8080/"
        },
        "id": "jPjHMuwADdyr",
        "outputId": "05b19b73-7ecd-4dc3-caaa-252fb768e138"
      },
      "source": [
        "import torch\n",
        "torch.cuda.is_available()"
      ],
      "execution_count": 2,
      "outputs": [
        {
          "output_type": "execute_result",
          "data": {
            "text/plain": [
              "True"
            ]
          },
          "metadata": {
            "tags": []
          },
          "execution_count": 2
        }
      ]
    },
    {
      "cell_type": "code",
      "metadata": {
        "colab": {
          "base_uri": "https://localhost:8080/"
        },
        "id": "OaMMh_PZFJ-l",
        "outputId": "17f9c723-1e91-470e-a314-1ad9c2cb1ec3"
      },
      "source": [
        "a=torch.randint(20, size=(3,4,5))\n",
        "print(a)"
      ],
      "execution_count": 5,
      "outputs": [
        {
          "output_type": "stream",
          "text": [
            "tensor([[[12,  5, 19, 13,  3],\n",
            "         [ 8, 11, 12,  8,  4],\n",
            "         [13,  6,  4, 10, 10],\n",
            "         [ 9,  1,  7, 13,  3]],\n",
            "\n",
            "        [[ 1, 19,  1, 11,  6],\n",
            "         [ 9, 14,  3,  3,  6],\n",
            "         [ 0,  0,  0, 10,  4],\n",
            "         [ 6, 17, 13,  9,  5]],\n",
            "\n",
            "        [[ 0, 17,  0,  4, 18],\n",
            "         [11, 12, 11, 12, 11],\n",
            "         [ 8, 10,  1, 17, 15],\n",
            "         [11,  2, 11, 12, 17]]])\n"
          ],
          "name": "stdout"
        }
      ]
    },
    {
      "cell_type": "code",
      "metadata": {
        "colab": {
          "base_uri": "https://localhost:8080/"
        },
        "id": "zqrn4E_zGToS",
        "outputId": "241a7a40-86d9-463d-8403-21210b9620ea"
      },
      "source": [
        "b1,b2=a.split(4, dim=2)\n",
        "print(b1, b1.shape)\n",
        "print(b2,b2.shape)"
      ],
      "execution_count": 8,
      "outputs": [
        {
          "output_type": "stream",
          "text": [
            "tensor([[[12,  5, 19, 13],\n",
            "         [ 8, 11, 12,  8],\n",
            "         [13,  6,  4, 10],\n",
            "         [ 9,  1,  7, 13]],\n",
            "\n",
            "        [[ 1, 19,  1, 11],\n",
            "         [ 9, 14,  3,  3],\n",
            "         [ 0,  0,  0, 10],\n",
            "         [ 6, 17, 13,  9]],\n",
            "\n",
            "        [[ 0, 17,  0,  4],\n",
            "         [11, 12, 11, 12],\n",
            "         [ 8, 10,  1, 17],\n",
            "         [11,  2, 11, 12]]]) torch.Size([3, 4, 4])\n",
            "tensor([[[ 3],\n",
            "         [ 4],\n",
            "         [10],\n",
            "         [ 3]],\n",
            "\n",
            "        [[ 6],\n",
            "         [ 6],\n",
            "         [ 4],\n",
            "         [ 5]],\n",
            "\n",
            "        [[18],\n",
            "         [11],\n",
            "         [15],\n",
            "         [17]]]) torch.Size([3, 4, 1])\n"
          ],
          "name": "stdout"
        }
      ]
    },
    {
      "cell_type": "code",
      "metadata": {
        "colab": {
          "base_uri": "https://localhost:8080/"
        },
        "id": "OfAsq7ibGX6i",
        "outputId": "a2f28fa8-4716-46a4-ce9e-830ab8ab58e3"
      },
      "source": [
        "c=torch.cat((b1,b2), dim=2)\n",
        "print(c, c.shape)"
      ],
      "execution_count": 9,
      "outputs": [
        {
          "output_type": "stream",
          "text": [
            "tensor([[[12,  5, 19, 13,  3],\n",
            "         [ 8, 11, 12,  8,  4],\n",
            "         [13,  6,  4, 10, 10],\n",
            "         [ 9,  1,  7, 13,  3]],\n",
            "\n",
            "        [[ 1, 19,  1, 11,  6],\n",
            "         [ 9, 14,  3,  3,  6],\n",
            "         [ 0,  0,  0, 10,  4],\n",
            "         [ 6, 17, 13,  9,  5]],\n",
            "\n",
            "        [[ 0, 17,  0,  4, 18],\n",
            "         [11, 12, 11, 12, 11],\n",
            "         [ 8, 10,  1, 17, 15],\n",
            "         [11,  2, 11, 12, 17]]]) torch.Size([3, 4, 5])\n"
          ],
          "name": "stdout"
        }
      ]
    },
    {
      "cell_type": "code",
      "metadata": {
        "colab": {
          "base_uri": "https://localhost:8080/"
        },
        "id": "y4YGwrAjGetl",
        "outputId": "ce923d7c-7038-4061-a966-9e26c356daa4"
      },
      "source": [
        "print((c==a).sum().tolist(), c.numel())"
      ],
      "execution_count": 15,
      "outputs": [
        {
          "output_type": "stream",
          "text": [
            "60 60\n"
          ],
          "name": "stdout"
        }
      ]
    }
  ]
}